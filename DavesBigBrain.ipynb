{
 "cells": [
  {
   "cell_type": "code",
   "execution_count": 1,
   "metadata": {},
   "outputs": [],
   "source": [
    "__version__ = '2.1.2'\n",
    "__author__ = 'SanoKei'"
   ]
  },
  {
   "cell_type": "code",
   "execution_count": 2,
   "metadata": {},
   "outputs": [],
   "source": [
    "'''Imports'''\n",
    "\n",
    "from tkinter import Tk, Frame, Canvas, BOTH, ALL, PhotoImage\n",
    "import tkinter as tk\n",
    "import configparser\n",
    "import os\n",
    "import random\n",
    "import time\n",
    "import json\n",
    "from PIL import Image, ImageTk\n",
    "from threading import Thread\n",
    "from win32api import GetMonitorInfo, MonitorFromPoint"
   ]
  },
  {
   "cell_type": "code",
   "execution_count": 3,
   "metadata": {},
   "outputs": [],
   "source": [
    "'''Initialize'''\n",
    "\n",
    "# initialize tkinter\n",
    "root = Tk()\n",
    "\n",
    "# get the directory of the file\n",
    "current_directory = os.getcwd()\n",
    "davidImgPath = current_directory + '\\\\resources\\\\images\\\\David\\\\'"
   ]
  },
  {
   "cell_type": "code",
   "execution_count": 4,
   "metadata": {},
   "outputs": [],
   "source": [
    "'''Get'''\n",
    "\n",
    "# get taskbar height\n",
    "monitor_info = GetMonitorInfo(MonitorFromPoint((0,0)))\n",
    "monitor_area = monitor_info.get(\"Monitor\")\n",
    "work_area = monitor_info.get(\"Work\")\n",
    "barHeight = monitor_area[3]-work_area[3]"
   ]
  },
  {
   "cell_type": "code",
   "execution_count": 5,
   "metadata": {},
   "outputs": [],
   "source": [
    "'''David'''\n",
    "\n",
    "### Images ###\n",
    "\n",
    "# idle\n",
    "idleLeft_0 = [\"DAVE_IDLE-LEFT_0_0.gif\",\"DAVE_IDLE-LEFT_0_1.gif\",\"DAVE_IDLE-LEFT_0_2.gif\",\"DAVE_IDLE-LEFT_0_3.gif\",\"DAVE_IDLE-LEFT_0_2.gif\",\"DAVE_IDLE-LEFT_0_1.gif\"]\n",
    "idleRight_0 = [\"DAVE_IDLE-RIGHT_0_0.gif\",\"DAVE_IDLE-RIGHT_0_1.gif\",\"DAVE_IDLE-RIGHT_0_2.gif\",\"DAVE_IDLE-RIGHT_0_3.gif\",\"DAVE_IDLE-RIGHT_0_2.gif\",\"DAVE_IDLE-RIGHT_0_1.gif\"]\n",
    "moveLeft_0 = [\"DAVE_MOVE-LEFT_0_0.gif\",\"DAVE_MOVE-LEFT_0_1.gif\"]\n",
    "moveRight_0 = [\"DAVE_MOVE-RIGHT_0_0.gif\",\"DAVE_MOVE-RIGHT_0_1.gif\"]\n",
    "\n",
    "### Animation ###\n",
    "animation = {\n",
    "    \"idleLeft_0\": idleLeft_0, \n",
    "    \"idleRight_0\": idleRight_0, \n",
    "    \"moveLeft_0\": moveLeft_0, \n",
    "    \"moveRight_0\": moveRight_0,\n",
    "    \"moveUp_0\": idleLeft_0,\n",
    "    \"moveDown_0\": idleRight_0\n",
    "}"
   ]
  },
  {
   "cell_type": "code",
   "execution_count": 6,
   "metadata": {},
   "outputs": [
    {
     "data": {
      "text/plain": [
       "['C:\\\\Users\\\\William\\\\Desktop\\\\Dave\\\\resources\\\\config.txt']"
      ]
     },
     "execution_count": 6,
     "metadata": {},
     "output_type": "execute_result"
    }
   ],
   "source": [
    "'''Find Config''' \n",
    "\n",
    "configParser = configparser.RawConfigParser()   \n",
    "configFilePath = r''+os.getcwd()+'\\\\resources\\\\config.txt'\n",
    "configParser.read(configFilePath)"
   ]
  },
  {
   "cell_type": "code",
   "execution_count": 7,
   "metadata": {},
   "outputs": [],
   "source": [
    "'''Read from config'''\n",
    "\n",
    "### window ###\n",
    "title = str(configParser.get('window', 'title'))\n",
    "overrideredirect = bool(configParser.get('window', 'overrideredirect'))\n",
    "top_most = bool(configParser.get('window', 'top_most'))\n",
    "trans_color = str(configParser.get('window', 'trans_color'))\n",
    "\n",
    "### david ###\n",
    "speed = int(configParser.get('david', 'speed'))"
   ]
  },
  {
   "cell_type": "code",
   "execution_count": 8,
   "metadata": {},
   "outputs": [
    {
     "data": {
      "text/plain": [
       "''"
      ]
     },
     "execution_count": 8,
     "metadata": {},
     "output_type": "execute_result"
    }
   ],
   "source": [
    "'''Configuration'''\n",
    "\n",
    "### window ###\n",
    "root.title(title)\n",
    "root.overrideredirect(overrideredirect)\n",
    "# root.attributes('-alpha', 0.1)\n",
    "root.wm_attributes(\"-topmost\", top_most)\n",
    "root.wm_attributes(\"-disabled\", True)\n",
    "root.wm_attributes(\"-transparentcolor\", trans_color)"
   ]
  },
  {
   "cell_type": "code",
   "execution_count": 9,
   "metadata": {},
   "outputs": [],
   "source": [
    "'''David Actions'''\n",
    "\n",
    "def dave_action(action, var, photo, spd):\n",
    "### move ###\n",
    "    if(\"moveRight\" in action):\n",
    "        x = spd * var\n",
    "        if(x+root.winfo_rootx() >= root.winfo_screenwidth() - photo.width()):\n",
    "            root.geometry(\"+{}+{}\".format(str(root.winfo_screenwidth() - photo.width() - 1),str(root.winfo_rooty())))\n",
    "            return True\n",
    "        else:\n",
    "            root.geometry(\"+{}+{}\".format(str(x+root.winfo_rootx()),str(root.winfo_rooty())))\n",
    "            return False\n",
    "        \n",
    "    if(\"moveLeft\" in action):\n",
    "        x = spd * var\n",
    "        if(root.winfo_rootx() - x <= 0):\n",
    "            root.geometry(\"+{}+{}\".format(str(1),str(root.winfo_rooty())))\n",
    "            return True\n",
    "        else:\n",
    "            root.geometry(\"+{}+{}\".format(str(root.winfo_rootx() - x),str(root.winfo_rooty())))\n",
    "            return False\n",
    "        \n",
    "    if(\"moveUp\" in action):\n",
    "        y = spd * var\n",
    "        if(root.winfo_rooty() - y <= 0):\n",
    "            root.geometry(\"+{}+{}\".format(str(root.winfo_rootx()),str(1)))\n",
    "            return True\n",
    "        else:\n",
    "            root.geometry(\"+{}+{}\".format(str(root.winfo_rootx()),str(root.winfo_rooty() - y)))\n",
    "            return False\n",
    "        \n",
    "    if(\"moveDown\" in action):\n",
    "        y = spd * var\n",
    "        if(y+root.winfo_rooty() >= root.winfo_screenheight() - photo.height()-barHeight):\n",
    "            root.geometry(\"+{}+{}\".format(str(root.winfo_rootx()),str(root.winfo_screenheight() - photo.height() - barHeight)))\n",
    "            return True\n",
    "        else:\n",
    "            root.geometry(\"+{}+{}\".format(str(root.winfo_rootx()),str(y + root.winfo_rooty())))\n",
    "            return False"
   ]
  },
  {
   "cell_type": "code",
   "execution_count": 10,
   "metadata": {},
   "outputs": [],
   "source": [
    "'''Window Class'''\n",
    "\n",
    "class Window(Frame):\n",
    "    def __init__(self, master=None):\n",
    "        Frame.__init__(self, master)\n",
    "        self.master = master\n",
    "        self.pack(fill=BOTH, expand=1)\n",
    "        \n",
    "    def createAnimation(self,imagelist,filePath,t,action,slp,spd):\n",
    "        stop = False\n",
    "        perFrame = 0\n",
    "        path = davidImgPath+filePath+\"\\\\\"\n",
    "        # extract width and height info\n",
    "        photo = PhotoImage(file=path+imagelist[0])\n",
    "        width = photo.width()\n",
    "        height = photo.height()\n",
    "        # create a list of image objects\n",
    "        giflist = []\n",
    "        for imagefile in imagelist:\n",
    "            photo = PhotoImage(file=path+imagefile)\n",
    "            giflist.append(photo)\n",
    "\n",
    "        # loop through the gif image objects for a while\n",
    "        for k in range(0, t):\n",
    "            for gif in giflist:\n",
    "                perFrame += 1\n",
    "                canvas.delete(ALL)\n",
    "                canvas.create_image(width/2.0, height/2.0, image=gif)\n",
    "                stop = dave_action(action,perFrame,photo,spd)\n",
    "                if(stop):\n",
    "                    action = \"idle\"\n",
    "                canvas.update()\n",
    "                time.sleep(slp)"
   ]
  },
  {
   "cell_type": "code",
   "execution_count": null,
   "metadata": {},
   "outputs": [],
   "source": [
    "'''Run main window'''\n",
    "\n",
    "app = Window(root)\n",
    "\n",
    "# Actions and weights\n",
    "actions = json.loads(configParser.get(\"david\",\"actions\"))\n",
    "weights = json.loads(configParser.get(\"david\",\"weights\"))\n",
    "\n",
    "# Files and animation\n",
    "file_name = json.loads(configParser.get(\"david\",\"file_name\"))\n",
    "rand = json.loads(configParser.get(\"david\",\"rand\"))\n",
    "sleep = json.loads(configParser.get(\"david\",\"sleep\"))\n",
    "\n",
    "# Create the canvas\n",
    "canvas = Canvas(width=128, height=128, bg=trans_color, highlightthickness=0)\n",
    "canvas.pack()\n",
    "\n",
    "while True:\n",
    "    # random action\n",
    "    action_rand = random.choices(actions, weights=weights)\n",
    "    index = actions.index(str(action_rand[0]))\n",
    "    t = random.choice(range(list(rand)[index])) + 1\n",
    "    slp = list(sleep)[index]\n",
    "    spd = random.choice(range(speed)) + 1\n",
    "    app.createAnimation(animation.get(actions[index]),file_name[index],t,action_rand[0],slp,spd)\n",
    "        \n",
    "root.mainloop()"
   ]
  }
 ],
 "metadata": {
  "kernelspec": {
   "display_name": "Python 3",
   "language": "python",
   "name": "python3"
  },
  "language_info": {
   "codemirror_mode": {
    "name": "ipython",
    "version": 3
   },
   "file_extension": ".py",
   "mimetype": "text/x-python",
   "name": "python",
   "nbconvert_exporter": "python",
   "pygments_lexer": "ipython3",
   "version": "3.8.3"
  }
 },
 "nbformat": 4,
 "nbformat_minor": 4
}
